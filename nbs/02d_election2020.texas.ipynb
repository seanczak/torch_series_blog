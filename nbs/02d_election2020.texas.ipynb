{
 "cells": [
  {
   "cell_type": "markdown",
   "metadata": {},
   "source": [
    "# How Swing-able is Texas Anyways?\n",
    "> Statistically speaking, Your Vote Matters\n",
    "\n",
    "Follow me on this journey as we attempt to answer:\n",
    "- Does my vote actually count?"
   ]
  },
  {
   "cell_type": "markdown",
   "metadata": {},
   "source": [
    "## Why Vote?\n",
    "\n",
    "You might be asking yourself: \"this is all interesting but if anything it's convinced me EVEN MORE that my vote doesn't matter.\" I'd argue that, statistically speaking, that's not true.  Let's go back to Virginia.\n",
    "\n",
    "So far in this article, we've shaped all our models around the idea that the big bag of marbles at the state capital was the \"population\" of votes that we were trying to estimate through sampling.  But, in fact, that big bag IS the sample! The state's total voting population is... well... the \"population of interest.\"  Sure if one person doesn't show up to vote, it might only slightly change the proportion of votes. But, technically speaking, it still could bias our sample if it happens in a way that is unbalanced. \n",
    "\n",
    "One way this could happen is through group-thinking. Having a cavalier attitude could lead to those around you having the same attitude and, in turn, propagating it further to their friends. If people can be assumed to vote similarly to their friends or at least those close by, then a huge group of your network not voting could lead to an unbiased sample on election day. Imagine if something like that had happened with Democrats in Fairfax County, Virginia? It could’ve unnaturally changed a predictable, landslide victory for Biden into a close-count as a result of biased sampling. \n",
    "\n",
    "You make the call... As for me, I want my big bag of marbles at my state capital to be an accurate representation of my state's population."
   ]
  },
  {
   "cell_type": "code",
   "execution_count": null,
   "metadata": {},
   "outputs": [],
   "source": []
  }
 ],
 "metadata": {
  "kernelspec": {
   "display_name": "Python 3",
   "language": "python",
   "name": "python3"
  },
  "language_info": {
   "codemirror_mode": {
    "name": "ipython",
    "version": 3
   },
   "file_extension": ".py",
   "mimetype": "text/x-python",
   "name": "python",
   "nbconvert_exporter": "python",
   "pygments_lexer": "ipython3",
   "version": "3.7.7"
  },
  "toc": {
   "base_numbering": 1,
   "nav_menu": {},
   "number_sections": true,
   "sideBar": true,
   "skip_h1_title": false,
   "title_cell": "Table of Contents",
   "title_sidebar": "Contents",
   "toc_cell": false,
   "toc_position": {},
   "toc_section_display": true,
   "toc_window_display": false
  }
 },
 "nbformat": 4,
 "nbformat_minor": 2
}
