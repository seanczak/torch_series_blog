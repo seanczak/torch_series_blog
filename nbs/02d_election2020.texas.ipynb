{
 "cells": [
  {
   "cell_type": "markdown",
   "metadata": {},
   "source": [
    "# How Swing-able is Texas Anyways?\n",
    "> Given Low Voter Turnout - Quite Swing-able\n",
    "\n",
    "After much statistical reflection of this past election, I've grappled with the concept of \"does my vote actually matter\" and I imagine I'm not alone.  \n",
    "\n",
    "I know I'm not the only one who was surprised to see that Texas included as a \"swing state\" in Google's macro.  How could that be? Some sort of mistake? I went to school in Texas and let me tell you, that place is a red state. It at least felt red...\n",
    "\n",
    "However, we watched Georgia swing blue this year and it really does beg the question: which others could swing? \n",
    "\n",
    "Let's take Texas for example and I hope to demonstrate why, in fact, your vote really does matter and you should take it seriously (regardless of our political leaning).\n",
    "\n",
    "## What is an Election Anyways?\n",
    "\n",
    "When I wrote about Virginia and Pennsylvania, I made the point that the reports from the news were resulting from biased samples. Now, when I say \"biased,\" I don't mean they were wrong or intentionally misleading.  I mean that because of the manner that the results were collected (e.g. \"in person\" ballots were naturally counted faster), it gave an incomplete picture of the story that the underlying population (all the ballots combined) was telling.\n",
    "\n",
    "Furthermore, since I started writing this little mini-series, I've been thinking of the votes cast in each state as the \"target\" of my statistical analysis. Statistically speaking, I was treating \"all the ballots\" as \"the population\" which we could \"sample\" from to make inferences about the final results.  \n",
    "\n",
    "This is all well and mathematically sound... except when you bring up that the votes themselves are actually a biased sample of what the people of that state represent.\n",
    "\n",
    "## Ballot Counting can be a Biased Sample Technique\n",
    "\n",
    "The way a democracy works is that we don't assume we know what the will of the people is. We ask them.  And the majority opinion is what we go with (kind of).  So we have this whole process set up where you can go vote and tell the government what laws should be passed and which officials should be in office.  But here's the thing: \n",
    "\n",
    "NOT EVERYONE VOTES!!!\n",
    "\n",
    "Voting is a biased sampling process because not everyone participants.  We can't assume that since 75% of Democrats choose not to vote then exactly 75% of Republicans do the same. Sometimes more of one group shows up to the polls. So what affect can this have on an election?\n",
    "\n",
    "## The Texas Swing?\n",
    "\n",
    "During the writing of this article, Texas had counted 98% of its votes and Donald Trump had won the state by 600,000 votes (52% to Biden's 46%).  But I was curious, could people's perception of what they imagined to be an inevitable result have actually manifested this result?  What I mean is: did assuming that the state would go red play a role in it's eventual \"red-ness\" after counting votes in 2020?  Was there a universe that existed where Texas actually voted... Democrat? Let's take a look...\n",
    "\n",
    "## Split by County\n",
    "\n",
    "Let's do a similar analysis we did with Virginia where we split the state by county to get a sense of how Texas is spatially distributed.  First off, we see that, again, about 50% of the votes come from the largest 5 counties.  In Virginia's case, this type of distribution ensured Biden's victory (even though he was behind by 20% at one point).  However, we can see that the largest county, Harris, is not nearly as imbalanced (in favor of Biden) as Fairfax County was for Virginia.\n",
    "\n",
    "<img src=\"election/election_images/texas.png\" width=1200 height=600 />\n",
    "\n",
    "I wonder... did Biden supporters not show up in these big cities in the same numbers as they did in Virginia because they figured it was a lost cause?  Could Texas be a \"blue state\" actually?  "
   ]
  },
  {
   "cell_type": "markdown",
   "metadata": {},
   "source": [
    "## Could Texas be a Blue State?\n",
    "\n",
    "As we saw with the Illinois example, we really don't need more than ~10k votes to get a sense for how the underlying population behaves.  Let's just assume that the way people voted in these counties reflects the underlying population's sentiment towards each candidate (i.e. Harris County leans 55% blue).  Then, let's take the actual population and assume that 75% of people are of voting age (a pretty good guess in 2016).  We can use these two pieces of information to extrapolate what the results would be if EVERYONE of voting age had shown up to the polls. Could the larger, \"blue\" city populations do what they did in Virginia?\n",
    "\n",
    "Unfortunately, the results are not as dramatic as I was hoping for.  Biden goes from 46% to 47% and Trump drops from 52% to 51%.  Texas really is a red state (if the proportions demonstrated by this election are representative which would be hard to know from this data).  \n",
    "\n",
    "But I'm not satisfied.  I wanted to know how swing-able Texas was... not just whether it was red or blue.  First, let's talk about an assumption I made earlier."
   ]
  },
  {
   "cell_type": "markdown",
   "metadata": {},
   "source": [
    "## Record Turnouts?\n",
    "\n",
    "We're all celebrating a 66-ish% voter turnout this election because it's smashing records that were decades old.  But, that still means that 33% of people didn't vote. And actually, that's 33% of people who were registered to vote that chose not to vote.  How many people are eligible to vote and just not registered?  Since I had population data, I chose to look at the numbers through that lens rather than the \"registered voters\" lens.  It turns out that, if you assume 75% of people are voting age, the number drops to 51% voter turnout.  Now, of course, some of that discrepancy is accounted for by immigrants or other non-eligible-to-vote adults... but I just wanted to point out that the number 66% is already inflated and, in general, unimpressive to be \"record breaking.\"\n",
    "\n",
    "## Could Texas Democrats Surprise Us All\n",
    "\n",
    "Ok back to Texas... We already pseudo-established (I realize we're doing a lot of hand-waving here) that Texas is a red state.  But remember, voting is a biased sampling mechanism.  Does a world exist where more Democrats show up at the polls?  \n",
    "\n",
    "We recall that the deficit that the blues needed to make up was 600,000.  What percentage of the Texas population would that be?  Turns out only about 3%.\n",
    "\n",
    "Ok, but we already established that most Texans are Republican. So what percentage MORE of the Democrats would have to show up.  Well, from the numbers from the toy model above, if 6.3% more democrats showed up to vote this year, Texas would've swung blue.  It would've meant that 57% of Texas Democrats could have surprised the 52% of Texas Republicans (assuming their number doesn't change) at the polls and Texas would have artificially given all 38 of its electoral college votes to Biden. We wouldn't even be talking about Nevada right now...\n",
    "\n",
    "## Your Vote Matters\n",
    "\n",
    "Ok so this has been a toy example but I feel like it makes the point: there is a ton of room for growth in voter turnout and if one group figures it out before the other, they could really swing policy making even if they aren't the majority.\n",
    "\n",
    "Sure if one person doesn't show up to vote, it might only slightly change the proportion of votes that the final tally reveals. But again, it still biases our sample if it happens in a way that is unbalanced. \n",
    "\n",
    "Consider the concept of group-thinking. Having a cavalier or fatalistic attitude could lead to those around you having the same attitude and, in turn, propagating it further to their friends. If people can be assumed to vote similarly to their friends or at least those close by, then a huge group of your network not voting could lead to a biased sample on election day. Imagine if something like that had happened with Democrats in Fairfax County, Virginia? It could’ve unnaturally changed a predictable, landslide victory for Biden into a close-count as a result of biased sampling. The same (well the opposite really) could be said about Texas.\n",
    "\n",
    "The best way to avoid this is to just make a habit of voting.  And make sure you let your friends and family know how important it is. It's your right. And it's a big deal."
   ]
  },
  {
   "cell_type": "code",
   "execution_count": null,
   "metadata": {},
   "outputs": [],
   "source": []
  }
 ],
 "metadata": {
  "kernelspec": {
   "display_name": "Python 3",
   "language": "python",
   "name": "python3"
  },
  "language_info": {
   "codemirror_mode": {
    "name": "ipython",
    "version": 3
   },
   "file_extension": ".py",
   "mimetype": "text/x-python",
   "name": "python",
   "nbconvert_exporter": "python",
   "pygments_lexer": "ipython3",
   "version": "3.7.7"
  },
  "toc": {
   "base_numbering": 1,
   "nav_menu": {},
   "number_sections": true,
   "sideBar": true,
   "skip_h1_title": false,
   "title_cell": "Table of Contents",
   "title_sidebar": "Contents",
   "toc_cell": false,
   "toc_position": {},
   "toc_section_display": true,
   "toc_window_display": false
  }
 },
 "nbformat": 4,
 "nbformat_minor": 2
}
