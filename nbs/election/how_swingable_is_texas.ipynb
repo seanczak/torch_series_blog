{
 "cells": [
  {
   "cell_type": "code",
   "execution_count": 6,
   "metadata": {},
   "outputs": [
    {
     "name": "stdout",
     "output_type": "stream",
     "text": [
      " CA_county_pops2019.csv\t\t   __pycache__\r\n",
      " election_images\t\t  'Texas Counties by Population_files'\r\n",
      " election_plots.ipynb\t\t  'Texas Counties by Population.html'\r\n",
      " election.py\t\t\t   texas_files\r\n",
      " election_results_thoughts.ipynb   texas.html\r\n",
      " how_swingable_is_texas.ipynb\t   virginia.json\r\n"
     ]
    }
   ],
   "source": [
    "!ls"
   ]
  },
  {
   "cell_type": "markdown",
   "metadata": {},
   "source": [
    "# How Swing-able is Texas?\n",
    "- could texas swing be more than just a dance move\n",
    "- what does 600k vote difference mean? could that be made up easily by dems?\n",
    "- we watched Georgia swing this year (personally blew my mind), begs the question which other ones could swing?\n",
    "- went to undergrad at Trinity University and even though the cities vote blue, the state still feels very red (I think you can probably imagine what I mean by this)\n",
    "- this is where I make my point about an election being a biased sample of the population (i.e. its a look at what the people think but because it is only a subset and that subset may not be evenly sampled... it lends itself to bias)\n",
    "- there in lies an opportunity \n",
    "- did a similar analysis by breaking it down to county level as with Virginia\n",
    "- we have plenty of data to assume those p numbers are set (again, unless the counties themselves are biased but lets ignore that for now)\n",
    "- its pretty red still\n",
    "- but we saw record turnouts and with back of the envelope calc, shows that Republican counties actually had a higher turnout (by population).  It could be argued that the more rigorous way of calculating this would be by voter registration but who is to say that isn't a biased sample too. There are tradeoffs to both because bigger cities might have more uneligible voters which would inflate some of the Biden projections but lets just go with this because my main point isn't exactly hinging on this assumption (although I want to be transparent about it). you could also make the point that dems don't register because they don't think TX will ever go blue (I have several friends in Texas who have said just that)... its hard to say (because they aren't registered), so I just chose population (put this at bottom)\n",
    "- main point is that if only 51% of voting age people voted, 52% rep, 50 dem, then those 600k votes could easily be made up in a scenario where dems were ultra inspired to vote (and thus went trhough the trouble of registering and showing up).  its just a 6% increase in their turnout and thats assuming the republicans don't change. A situation could exist where they drop by 3% (which would only be slightly below the dem's turnout) and then \n"
   ]
  },
  {
   "cell_type": "code",
   "execution_count": 7,
   "metadata": {},
   "outputs": [],
   "source": [
    "import requests\n",
    "from bs4 import BeautifulSoup\n",
    "import pandas as pd\n",
    "import time\n",
    "import numpy as np\n",
    "\n",
    "import matplotlib.pyplot as plt\n",
    "import seaborn as sns\n",
    "plt.style.use('ggplot')\n",
    "plt.style.use(['dark_background'])"
   ]
  },
  {
   "cell_type": "markdown",
   "metadata": {},
   "source": [
    "https://www.texas-demographics.com/counties_by_population"
   ]
  },
  {
   "cell_type": "code",
   "execution_count": 8,
   "metadata": {},
   "outputs": [
    {
     "data": {
      "text/plain": [
       "<tr>\n",
       "<td>\n",
       "        3\n",
       "      </td>\n",
       "<td>\n",
       "<a href=\"https://www.texas-demographics.com/tarrant-county-demographics\">Tarrant County</a>\n",
       "</td>\n",
       "<td>\n",
       "        2,102,515\n",
       "\n",
       "      </td>\n",
       "</tr>"
      ]
     },
     "execution_count": 8,
     "metadata": {},
     "output_type": "execute_result"
    }
   ],
   "source": [
    "with open('Texas Counties by Population.html') as popfile:\n",
    "    html = popfile.read()\n",
    "\n",
    "psoup = BeautifulSoup(html, 'html.parser')\n",
    "table = psoup.find(lambda tag: tag.name=='table') \n",
    "rows = table.findAll(lambda tag: tag.name=='tr')\n",
    "rows[3]"
   ]
  },
  {
   "cell_type": "code",
   "execution_count": 9,
   "metadata": {},
   "outputs": [
    {
     "data": {
      "text/html": [
       "<div>\n",
       "<style scoped>\n",
       "    .dataframe tbody tr th:only-of-type {\n",
       "        vertical-align: middle;\n",
       "    }\n",
       "\n",
       "    .dataframe tbody tr th {\n",
       "        vertical-align: top;\n",
       "    }\n",
       "\n",
       "    .dataframe thead th {\n",
       "        text-align: right;\n",
       "    }\n",
       "</style>\n",
       "<table border=\"1\" class=\"dataframe\">\n",
       "  <thead>\n",
       "    <tr style=\"text-align: right;\">\n",
       "      <th></th>\n",
       "      <th>rank</th>\n",
       "      <th>county</th>\n",
       "      <th>pop</th>\n",
       "      <th>voters</th>\n",
       "    </tr>\n",
       "  </thead>\n",
       "  <tbody>\n",
       "    <tr>\n",
       "      <th>0</th>\n",
       "      <td>1</td>\n",
       "      <td>Harris County</td>\n",
       "      <td>4713325</td>\n",
       "      <td>3534993</td>\n",
       "    </tr>\n",
       "    <tr>\n",
       "      <th>1</th>\n",
       "      <td>2</td>\n",
       "      <td>Dallas County</td>\n",
       "      <td>2635516</td>\n",
       "      <td>1976637</td>\n",
       "    </tr>\n",
       "    <tr>\n",
       "      <th>2</th>\n",
       "      <td>3</td>\n",
       "      <td>Tarrant County</td>\n",
       "      <td>2102515</td>\n",
       "      <td>1576886</td>\n",
       "    </tr>\n",
       "    <tr>\n",
       "      <th>3</th>\n",
       "      <td>4</td>\n",
       "      <td>Bexar County</td>\n",
       "      <td>2003554</td>\n",
       "      <td>1502665</td>\n",
       "    </tr>\n",
       "    <tr>\n",
       "      <th>4</th>\n",
       "      <td>5</td>\n",
       "      <td>Travis County</td>\n",
       "      <td>1273954</td>\n",
       "      <td>955465</td>\n",
       "    </tr>\n",
       "  </tbody>\n",
       "</table>\n",
       "</div>"
      ],
      "text/plain": [
       "  rank          county      pop   voters\n",
       "0    1   Harris County  4713325  3534993\n",
       "1    2   Dallas County  2635516  1976637\n",
       "2    3  Tarrant County  2102515  1576886\n",
       "3    4    Bexar County  2003554  1502665\n",
       "4    5   Travis County  1273954   955465"
      ]
     },
     "execution_count": 9,
     "metadata": {},
     "output_type": "execute_result"
    }
   ],
   "source": [
    "pops = []\n",
    "for row in rows[1:255]:\n",
    "    elems = row.findAll(lambda tag: tag.name == 'td')\n",
    "    county = []\n",
    "    for elem in elems:\n",
    "        county.append(elem.text.strip())\n",
    "    pops.append(county)\n",
    "pops = pd.DataFrame(pops,columns = ['rank','county','pop'])\n",
    "# gets confused by commas\n",
    "pops['pop'] = pops['pop'].str.replace(',','').astype(int)\n",
    "# assume 75% of population were voting age (as 2016 data suggests https://www.pewresearch.org/fact-tank/2020/11/03/in-past-elections-u-s-trailed-most-developed-countries-in-voter-turnout/)\n",
    "pops['voters'] = (pops['pop']*0.75).astype(int)\n",
    "pops.head()"
   ]
  },
  {
   "cell_type": "markdown",
   "metadata": {},
   "source": [
    "https://www.politico.com/2020-election/results/texas/"
   ]
  },
  {
   "cell_type": "code",
   "execution_count": 10,
   "metadata": {},
   "outputs": [
    {
     "data": {
      "text/plain": [
       "255"
      ]
     },
     "execution_count": 10,
     "metadata": {},
     "output_type": "execute_result"
    }
   ],
   "source": [
    "with open('texas.html') as votingfile:\n",
    "    html = votingfile.read()\n",
    "\n",
    "vsoup = BeautifulSoup(html, 'html.parser')\n",
    "# there are 4 tables and first three are garbage\n",
    "tables = vsoup.findAll(lambda tag: tag.name=='table')\n",
    "table = tables[3]\n",
    "# find all the rows\n",
    "rows = table.findAll(lambda tag: tag.name=='tr')\n",
    "len(rows)"
   ]
  },
  {
   "cell_type": "code",
   "execution_count": 11,
   "metadata": {},
   "outputs": [
    {
     "data": {
      "text/html": [
       "<div>\n",
       "<style scoped>\n",
       "    .dataframe tbody tr th:only-of-type {\n",
       "        vertical-align: middle;\n",
       "    }\n",
       "\n",
       "    .dataframe tbody tr th {\n",
       "        vertical-align: top;\n",
       "    }\n",
       "\n",
       "    .dataframe thead th {\n",
       "        text-align: right;\n",
       "    }\n",
       "</style>\n",
       "<table border=\"1\" class=\"dataframe\">\n",
       "  <thead>\n",
       "    <tr style=\"text-align: right;\">\n",
       "      <th></th>\n",
       "      <th>county</th>\n",
       "      <th>nTrump</th>\n",
       "      <th>perTrump</th>\n",
       "      <th>nBiden</th>\n",
       "      <th>perBiden</th>\n",
       "      <th>total</th>\n",
       "    </tr>\n",
       "  </thead>\n",
       "  <tbody>\n",
       "    <tr>\n",
       "      <th>0</th>\n",
       "      <td>Anderson County</td>\n",
       "      <td>15062</td>\n",
       "      <td>0.787</td>\n",
       "      <td>3934</td>\n",
       "      <td>0.205</td>\n",
       "      <td>18996</td>\n",
       "    </tr>\n",
       "    <tr>\n",
       "      <th>1</th>\n",
       "      <td>Andrews County</td>\n",
       "      <td>4937</td>\n",
       "      <td>0.843</td>\n",
       "      <td>849</td>\n",
       "      <td>0.145</td>\n",
       "      <td>5786</td>\n",
       "    </tr>\n",
       "    <tr>\n",
       "      <th>2</th>\n",
       "      <td>Angelina County</td>\n",
       "      <td>25070</td>\n",
       "      <td>0.726</td>\n",
       "      <td>9136</td>\n",
       "      <td>0.264</td>\n",
       "      <td>34206</td>\n",
       "    </tr>\n",
       "    <tr>\n",
       "      <th>3</th>\n",
       "      <td>Aransas County</td>\n",
       "      <td>9210</td>\n",
       "      <td>0.752</td>\n",
       "      <td>2896</td>\n",
       "      <td>0.237</td>\n",
       "      <td>12106</td>\n",
       "    </tr>\n",
       "    <tr>\n",
       "      <th>4</th>\n",
       "      <td>Archer County</td>\n",
       "      <td>4300</td>\n",
       "      <td>0.897</td>\n",
       "      <td>446</td>\n",
       "      <td>0.093</td>\n",
       "      <td>4746</td>\n",
       "    </tr>\n",
       "  </tbody>\n",
       "</table>\n",
       "</div>"
      ],
      "text/plain": [
       "            county  nTrump  perTrump  nBiden  perBiden  total\n",
       "0  Anderson County   15062     0.787    3934     0.205  18996\n",
       "1   Andrews County    4937     0.843     849     0.145   5786\n",
       "2  Angelina County   25070     0.726    9136     0.264  34206\n",
       "3   Aransas County    9210     0.752    2896     0.237  12106\n",
       "4    Archer County    4300     0.897     446     0.093   4746"
      ]
     },
     "execution_count": 11,
     "metadata": {},
     "output_type": "execute_result"
    }
   ],
   "source": [
    "votes = []\n",
    "for row in rows[1:]:\n",
    "    elems = row.findAll(lambda tag: tag.name == 'td')\n",
    "    county = []\n",
    "    for elem in elems:\n",
    "        county.append(elem.text.strip())\n",
    "    votes.append(county)\n",
    "votes = pd.DataFrame(votes,columns = ['county','nTrump','perTrump','nBiden','perBiden'])\n",
    "# change vote columns to ints\n",
    "for col in ['nTrump','nBiden']: votes[col] = votes[col].str.replace(',','').astype(int)\n",
    "# change percent column to floats\n",
    "for col in ['perTrump','perBiden']: votes[col] = votes[col].str.replace('%','').astype(float)/100\n",
    "votes['total'] = votes.nBiden + votes.nTrump\n",
    "votes.head()"
   ]
  },
  {
   "cell_type": "markdown",
   "metadata": {},
   "source": [
    "Add the population"
   ]
  },
  {
   "cell_type": "code",
   "execution_count": 12,
   "metadata": {
    "scrolled": true
   },
   "outputs": [
    {
     "data": {
      "text/html": [
       "<div>\n",
       "<style scoped>\n",
       "    .dataframe tbody tr th:only-of-type {\n",
       "        vertical-align: middle;\n",
       "    }\n",
       "\n",
       "    .dataframe tbody tr th {\n",
       "        vertical-align: top;\n",
       "    }\n",
       "\n",
       "    .dataframe thead th {\n",
       "        text-align: right;\n",
       "    }\n",
       "</style>\n",
       "<table border=\"1\" class=\"dataframe\">\n",
       "  <thead>\n",
       "    <tr style=\"text-align: right;\">\n",
       "      <th></th>\n",
       "      <th>county</th>\n",
       "      <th>nTrump</th>\n",
       "      <th>perTrump</th>\n",
       "      <th>nBiden</th>\n",
       "      <th>perBiden</th>\n",
       "      <th>total</th>\n",
       "      <th>voters</th>\n",
       "      <th>pop</th>\n",
       "      <th>votes</th>\n",
       "    </tr>\n",
       "  </thead>\n",
       "  <tbody>\n",
       "    <tr>\n",
       "      <th>0</th>\n",
       "      <td>Anderson County</td>\n",
       "      <td>15062</td>\n",
       "      <td>0.787</td>\n",
       "      <td>3934</td>\n",
       "      <td>0.205</td>\n",
       "      <td>18996</td>\n",
       "      <td>43301</td>\n",
       "      <td>57735</td>\n",
       "      <td>18996</td>\n",
       "    </tr>\n",
       "    <tr>\n",
       "      <th>1</th>\n",
       "      <td>Andrews County</td>\n",
       "      <td>4937</td>\n",
       "      <td>0.843</td>\n",
       "      <td>849</td>\n",
       "      <td>0.145</td>\n",
       "      <td>5786</td>\n",
       "      <td>14028</td>\n",
       "      <td>18705</td>\n",
       "      <td>5786</td>\n",
       "    </tr>\n",
       "    <tr>\n",
       "      <th>2</th>\n",
       "      <td>Angelina County</td>\n",
       "      <td>25070</td>\n",
       "      <td>0.726</td>\n",
       "      <td>9136</td>\n",
       "      <td>0.264</td>\n",
       "      <td>34206</td>\n",
       "      <td>65036</td>\n",
       "      <td>86715</td>\n",
       "      <td>34206</td>\n",
       "    </tr>\n",
       "    <tr>\n",
       "      <th>3</th>\n",
       "      <td>Aransas County</td>\n",
       "      <td>9210</td>\n",
       "      <td>0.752</td>\n",
       "      <td>2896</td>\n",
       "      <td>0.237</td>\n",
       "      <td>12106</td>\n",
       "      <td>17632</td>\n",
       "      <td>23510</td>\n",
       "      <td>12106</td>\n",
       "    </tr>\n",
       "    <tr>\n",
       "      <th>4</th>\n",
       "      <td>Archer County</td>\n",
       "      <td>4300</td>\n",
       "      <td>0.897</td>\n",
       "      <td>446</td>\n",
       "      <td>0.093</td>\n",
       "      <td>4746</td>\n",
       "      <td>6414</td>\n",
       "      <td>8553</td>\n",
       "      <td>4746</td>\n",
       "    </tr>\n",
       "  </tbody>\n",
       "</table>\n",
       "</div>"
      ],
      "text/plain": [
       "            county  nTrump  perTrump  nBiden  perBiden  total  voters    pop  \\\n",
       "0  Anderson County   15062     0.787    3934     0.205  18996   43301  57735   \n",
       "1   Andrews County    4937     0.843     849     0.145   5786   14028  18705   \n",
       "2  Angelina County   25070     0.726    9136     0.264  34206   65036  86715   \n",
       "3   Aransas County    9210     0.752    2896     0.237  12106   17632  23510   \n",
       "4    Archer County    4300     0.897     446     0.093   4746    6414   8553   \n",
       "\n",
       "   votes  \n",
       "0  18996  \n",
       "1   5786  \n",
       "2  34206  \n",
       "3  12106  \n",
       "4   4746  "
      ]
     },
     "execution_count": 12,
     "metadata": {},
     "output_type": "execute_result"
    }
   ],
   "source": [
    "texas = pd.merge(votes,pops[['county','voters','pop']],how='left',right_on = 'county',left_on='county')\n",
    "texas['votes'] = texas.nBiden + texas.nTrump\n",
    "texas.head()"
   ]
  },
  {
   "cell_type": "markdown",
   "metadata": {},
   "source": [
    "Half of the votes came from the top 5 counties"
   ]
  },
  {
   "cell_type": "code",
   "execution_count": 27,
   "metadata": {},
   "outputs": [
    {
     "data": {
      "text/plain": [
       "Text(0.5, 0, '')"
      ]
     },
     "execution_count": 27,
     "metadata": {},
     "output_type": "execute_result"
    },
    {
     "data": {
      "image/png": "[encoded data removed]",
      "text/plain": [
       "<Figure size 1440x432 with 1 Axes>"
      ]
     },
     "metadata": {},
     "output_type": "display_data"
    }
   ],
   "source": [
    "df = texas.sort_values('total',ascending=False).iloc[:30]\n",
    "\n",
    "x = 'county'\n",
    "y = 'votes'\n",
    "hue = 'candidate'\n",
    "\n",
    "melted_df = pd.melt(df[['nBiden','nTrump', x]], id_vars=[x],var_name=hue, value_name = y)\n",
    "\n",
    "plt.figure(figsize=(20,6))\n",
    "sns.barplot(x=x, y=y, hue=hue, data=melted_df, palette=['m','y'])\n",
    "plt.xticks(rotation=90); plt.xlabel('')"
   ]
  },
  {
   "cell_type": "code",
   "execution_count": 29,
   "metadata": {},
   "outputs": [
    {
     "data": {
      "text/html": [
       "<div>\n",
       "<style scoped>\n",
       "    .dataframe tbody tr th:only-of-type {\n",
       "        vertical-align: middle;\n",
       "    }\n",
       "\n",
       "    .dataframe tbody tr th {\n",
       "        vertical-align: top;\n",
       "    }\n",
       "\n",
       "    .dataframe thead th {\n",
       "        text-align: right;\n",
       "    }\n",
       "</style>\n",
       "<table border=\"1\" class=\"dataframe\">\n",
       "  <thead>\n",
       "    <tr style=\"text-align: right;\">\n",
       "      <th></th>\n",
       "      <th>county</th>\n",
       "      <th>nTrump</th>\n",
       "      <th>perTrump</th>\n",
       "      <th>nBiden</th>\n",
       "      <th>perBiden</th>\n",
       "      <th>total</th>\n",
       "      <th>voters</th>\n",
       "      <th>pop</th>\n",
       "      <th>votes</th>\n",
       "      <th>nBiden_pot</th>\n",
       "      <th>nTrump_pot</th>\n",
       "    </tr>\n",
       "  </thead>\n",
       "  <tbody>\n",
       "    <tr>\n",
       "      <th>100</th>\n",
       "      <td>Harris County</td>\n",
       "      <td>699822</td>\n",
       "      <td>0.428</td>\n",
       "      <td>911974</td>\n",
       "      <td>0.558</td>\n",
       "      <td>1611796</td>\n",
       "      <td>3534993</td>\n",
       "      <td>4713325</td>\n",
       "      <td>1611796</td>\n",
       "      <td>1972526</td>\n",
       "      <td>1512977</td>\n",
       "    </tr>\n",
       "  </tbody>\n",
       "</table>\n",
       "</div>"
      ],
      "text/plain": [
       "            county  nTrump  perTrump  nBiden  perBiden    total   voters  \\\n",
       "100  Harris County  699822     0.428  911974     0.558  1611796  3534993   \n",
       "\n",
       "         pop    votes  nBiden_pot  nTrump_pot  \n",
       "100  4713325  1611796     1972526     1512977  "
      ]
     },
     "execution_count": 29,
     "metadata": {},
     "output_type": "execute_result"
    }
   ],
   "source": [
    "texas.query('county == \"Harris County\"')"
   ]
  },
  {
   "cell_type": "code",
   "execution_count": null,
   "metadata": {},
   "outputs": [],
   "source": []
  },
  {
   "cell_type": "code",
   "execution_count": 13,
   "metadata": {},
   "outputs": [
    {
     "data": {
      "text/html": [
       "<div>\n",
       "<style scoped>\n",
       "    .dataframe tbody tr th:only-of-type {\n",
       "        vertical-align: middle;\n",
       "    }\n",
       "\n",
       "    .dataframe tbody tr th {\n",
       "        vertical-align: top;\n",
       "    }\n",
       "\n",
       "    .dataframe thead th {\n",
       "        text-align: right;\n",
       "    }\n",
       "</style>\n",
       "<table border=\"1\" class=\"dataframe\">\n",
       "  <thead>\n",
       "    <tr style=\"text-align: right;\">\n",
       "      <th></th>\n",
       "      <th>county</th>\n",
       "      <th>nTrump</th>\n",
       "      <th>perTrump</th>\n",
       "      <th>nBiden</th>\n",
       "      <th>perBiden</th>\n",
       "      <th>total</th>\n",
       "      <th>voters</th>\n",
       "      <th>pop</th>\n",
       "      <th>votes</th>\n",
       "      <th>nBiden_pot</th>\n",
       "      <th>nTrump_pot</th>\n",
       "    </tr>\n",
       "  </thead>\n",
       "  <tbody>\n",
       "    <tr>\n",
       "      <th>0</th>\n",
       "      <td>Anderson County</td>\n",
       "      <td>15062</td>\n",
       "      <td>0.787</td>\n",
       "      <td>3934</td>\n",
       "      <td>0.205</td>\n",
       "      <td>18996</td>\n",
       "      <td>43301</td>\n",
       "      <td>57735</td>\n",
       "      <td>18996</td>\n",
       "      <td>8876</td>\n",
       "      <td>34077</td>\n",
       "    </tr>\n",
       "    <tr>\n",
       "      <th>1</th>\n",
       "      <td>Andrews County</td>\n",
       "      <td>4937</td>\n",
       "      <td>0.843</td>\n",
       "      <td>849</td>\n",
       "      <td>0.145</td>\n",
       "      <td>5786</td>\n",
       "      <td>14028</td>\n",
       "      <td>18705</td>\n",
       "      <td>5786</td>\n",
       "      <td>2034</td>\n",
       "      <td>11825</td>\n",
       "    </tr>\n",
       "    <tr>\n",
       "      <th>2</th>\n",
       "      <td>Angelina County</td>\n",
       "      <td>25070</td>\n",
       "      <td>0.726</td>\n",
       "      <td>9136</td>\n",
       "      <td>0.264</td>\n",
       "      <td>34206</td>\n",
       "      <td>65036</td>\n",
       "      <td>86715</td>\n",
       "      <td>34206</td>\n",
       "      <td>17169</td>\n",
       "      <td>47216</td>\n",
       "    </tr>\n",
       "    <tr>\n",
       "      <th>3</th>\n",
       "      <td>Aransas County</td>\n",
       "      <td>9210</td>\n",
       "      <td>0.752</td>\n",
       "      <td>2896</td>\n",
       "      <td>0.237</td>\n",
       "      <td>12106</td>\n",
       "      <td>17632</td>\n",
       "      <td>23510</td>\n",
       "      <td>12106</td>\n",
       "      <td>4178</td>\n",
       "      <td>13259</td>\n",
       "    </tr>\n",
       "    <tr>\n",
       "      <th>4</th>\n",
       "      <td>Archer County</td>\n",
       "      <td>4300</td>\n",
       "      <td>0.897</td>\n",
       "      <td>446</td>\n",
       "      <td>0.093</td>\n",
       "      <td>4746</td>\n",
       "      <td>6414</td>\n",
       "      <td>8553</td>\n",
       "      <td>4746</td>\n",
       "      <td>596</td>\n",
       "      <td>5753</td>\n",
       "    </tr>\n",
       "  </tbody>\n",
       "</table>\n",
       "</div>"
      ],
      "text/plain": [
       "            county  nTrump  perTrump  nBiden  perBiden  total  voters    pop  \\\n",
       "0  Anderson County   15062     0.787    3934     0.205  18996   43301  57735   \n",
       "1   Andrews County    4937     0.843     849     0.145   5786   14028  18705   \n",
       "2  Angelina County   25070     0.726    9136     0.264  34206   65036  86715   \n",
       "3   Aransas County    9210     0.752    2896     0.237  12106   17632  23510   \n",
       "4    Archer County    4300     0.897     446     0.093   4746    6414   8553   \n",
       "\n",
       "   votes  nBiden_pot  nTrump_pot  \n",
       "0  18996        8876       34077  \n",
       "1   5786        2034       11825  \n",
       "2  34206       17169       47216  \n",
       "3  12106        4178       13259  \n",
       "4   4746         596        5753  "
      ]
     },
     "execution_count": 13,
     "metadata": {},
     "output_type": "execute_result"
    }
   ],
   "source": [
    "texas['nBiden_pot'] = (texas.voters * texas.perBiden).astype(int)\n",
    "texas['nTrump_pot'] = (texas.voters * texas.perTrump).astype(int)\n",
    "texas.head()"
   ]
  },
  {
   "cell_type": "code",
   "execution_count": 14,
   "metadata": {},
   "outputs": [
    {
     "data": {
      "text/plain": [
       "county        Anderson CountyAndrews CountyAngelina CountyAr...\n",
       "nTrump                                                  5865248\n",
       "perTrump                                                188.964\n",
       "nBiden                                                  5217656\n",
       "perBiden                                                 62.338\n",
       "total                                                  11082904\n",
       "voters                                                 21746816\n",
       "pop                                                    28995881\n",
       "votes                                                  11082904\n",
       "nBiden_pot                                             10294773\n",
       "nTrump_pot                                             11146375\n",
       "dtype: object"
      ]
     },
     "execution_count": 14,
     "metadata": {},
     "output_type": "execute_result"
    }
   ],
   "source": [
    "sums = texas.sum()\n",
    "sums"
   ]
  },
  {
   "cell_type": "markdown",
   "metadata": {},
   "source": [
    "More Republicans vote in Texas as shown by Trump's percentage going down. This might be because"
   ]
  },
  {
   "cell_type": "markdown",
   "metadata": {},
   "source": [
    "potential trump percentage (note it was 46.4 52.2)"
   ]
  },
  {
   "cell_type": "code",
   "execution_count": 15,
   "metadata": {},
   "outputs": [
    {
     "data": {
      "text/plain": [
       "0.5125520444004309"
      ]
     },
     "execution_count": 15,
     "metadata": {},
     "output_type": "execute_result"
    }
   ],
   "source": [
    "sums.nTrump_pot/sums.voters"
   ]
  },
  {
   "cell_type": "markdown",
   "metadata": {},
   "source": [
    "Potential biden"
   ]
  },
  {
   "cell_type": "code",
   "execution_count": 16,
   "metadata": {},
   "outputs": [
    {
     "data": {
      "text/plain": [
       "0.47339219681630634"
      ]
     },
     "execution_count": 16,
     "metadata": {},
     "output_type": "execute_result"
    }
   ],
   "source": [
    "sums.nBiden_pot/sums.voters"
   ]
  },
  {
   "cell_type": "markdown",
   "metadata": {},
   "source": [
    "Total percentage who voted (50%, much lower than some of the numbers they are projecting for the national average). of course, we are assuming 75% of the total population... which is already a rough number and doesnt include non-eligible persons of voting age (e.g. immigrants)"
   ]
  },
  {
   "cell_type": "code",
   "execution_count": 17,
   "metadata": {},
   "outputs": [
    {
     "data": {
      "text/plain": [
       "0.5096334102426765"
      ]
     },
     "execution_count": 17,
     "metadata": {},
     "output_type": "execute_result"
    }
   ],
   "source": [
    "sums.votes/sums.voters"
   ]
  },
  {
   "cell_type": "markdown",
   "metadata": {},
   "source": [
    "Republican percentage who voted"
   ]
  },
  {
   "cell_type": "code",
   "execution_count": 18,
   "metadata": {},
   "outputs": [
    {
     "data": {
      "text/plain": [
       "0.5262022854964058"
      ]
     },
     "execution_count": 18,
     "metadata": {},
     "output_type": "execute_result"
    }
   ],
   "source": [
    "sums.nTrump/ sums.nTrump_pot"
   ]
  },
  {
   "cell_type": "markdown",
   "metadata": {},
   "source": [
    "Democrat percentage who voted"
   ]
  },
  {
   "cell_type": "code",
   "execution_count": 19,
   "metadata": {},
   "outputs": [
    {
     "data": {
      "text/plain": [
       "0.5068257454535423"
      ]
     },
     "execution_count": 19,
     "metadata": {},
     "output_type": "execute_result"
    }
   ],
   "source": [
    "sums.nBiden/ sums.nBiden_pot"
   ]
  },
  {
   "cell_type": "markdown",
   "metadata": {},
   "source": [
    "How many more percentage of democrat voters needed to turn up. Still under the national average (you see projections saying 66% of people voted... of course, they may be comparing it to registered voters... actually just saw the same numbers for Texas too).  Shows that not everyone is registered (again, maybe more dems would register if they knew they could swing the state)"
   ]
  },
  {
   "cell_type": "code",
   "execution_count": 20,
   "metadata": {},
   "outputs": [
    {
     "data": {
      "text/plain": [
       "(647592, 6.290493243512994)"
      ]
     },
     "execution_count": 20,
     "metadata": {},
     "output_type": "execute_result"
    }
   ],
   "source": [
    "diff = sums.nTrump - sums.nBiden \n",
    "diff, diff/ sums.nBiden_pot*100"
   ]
  },
  {
   "cell_type": "markdown",
   "metadata": {},
   "source": [
    "how much more of state would need to show up at polls (6% seems like alot of dems but its actually not that many texans"
   ]
  },
  {
   "cell_type": "code",
   "execution_count": 21,
   "metadata": {},
   "outputs": [
    {
     "data": {
      "text/plain": [
       "2.9778704156047486"
      ]
     },
     "execution_count": 21,
     "metadata": {},
     "output_type": "execute_result"
    }
   ],
   "source": [
    "diff/sums.voters *100"
   ]
  },
  {
   "cell_type": "markdown",
   "metadata": {},
   "source": [
    "https://www.texastribune.org/2020/11/04/texas-voter-turnout-democrats/\n",
    "\n"
   ]
  }
 ],
 "metadata": {
  "kernelspec": {
   "display_name": "Python 3",
   "language": "python",
   "name": "python3"
  },
  "language_info": {
   "codemirror_mode": {
    "name": "ipython",
    "version": 3
   },
   "file_extension": ".py",
   "mimetype": "text/x-python",
   "name": "python",
   "nbconvert_exporter": "python",
   "pygments_lexer": "ipython3",
   "version": "3.7.7"
  },
  "toc": {
   "base_numbering": 1,
   "nav_menu": {},
   "number_sections": true,
   "sideBar": true,
   "skip_h1_title": false,
   "title_cell": "Table of Contents",
   "title_sidebar": "Contents",
   "toc_cell": false,
   "toc_position": {},
   "toc_section_display": true,
   "toc_window_display": false
  }
 },
 "nbformat": 4,
 "nbformat_minor": 2
}
