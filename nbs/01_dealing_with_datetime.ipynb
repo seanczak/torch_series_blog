{
 "cells": [
  {
   "cell_type": "markdown",
   "metadata": {},
   "source": [
    "# Combatting the Datetime Blues in Python\n",
    "> Opinionated wrangling of datetime objects\n",
    "\n"
   ]
  },
  {
   "cell_type": "markdown",
   "metadata": {},
   "source": [
    "At some point in their careers, all data scientists have suffered from a case of what I like to call \"The Datetime Blues.\"  They come when you least expect. You've worked hard to scrape data from somewhere or query it from some loosely maintained internal database and you feel ready to go. You're super excited to dig into the data, start making some visualizations, forming/testing hypotheses, and get some quick results back to your stakeholders about a project's scope.  However, after importing the data you realize its stored in one of the time formats that you're not 100% familiar with. Ok fine, a quick stackoverflow search and the dataset is ready...right?  Well, not exactly. You then realize that all your metadata is a different time format. Ok, a few more stackoverflow searches and you're up and running again.  \"WHAT NO?! Why did this python package add an extra 56 minutes when converting from local time to UTC?!?\"  Yes my friend, you have a case of the datetime blues.\n",
    "\n",
    "Fortunately this only occurs every so often in my work. But it happens just frequently enough to be annoying and just infrequently enough that I forget all the stackoverflow insights I learned the last time I dealt with the problems.  Thus, for my own sake if not yours, I want to put in writing some of the little hiccups and solutions I've come across while working with datetime objects in python and pandas.  I'll probably be adding to this piece so please provide any feedback in the comments. :)"
   ]
  },
  {
   "cell_type": "markdown",
   "metadata": {},
   "source": [
    "# Opinion: \"Time since epoch\" vs \"Datetime\"\n",
    "\n",
    "Before getting into the code, I would like to mention that, in my experience, a reasonable first step in any time series analysis project is to immediately convert everything into seconds (or milli-/microseconds) since epoch. (Note that by definition, epoch is: `00:00:00 UTC Jan 1, 1970`.) There are several reasons for this but the ones that I find most pertinent are as follows:\n",
    "\n",
    "- an `int` object is much smaller than a `datetime` or a `str` object. This leads to all sorts of benefits such as smaller storage footprint, faster querying, simpler computation, etc.\n",
    "- epoch time is timezone independent by its nature. There is no need to ever track down a missing bit of timezone information because it's unclear if it's omission implies UTC or simply a lapse of documentation\n",
    "- if you work with machine learning models, they understand `int`s but not `datetime` objects\n",
    "\n",
    "Thus, I typically work with epoch time unless I have some reason to use/see the exact date and time (e.g. visualizations, sanity checks, etc).  However, it's not always clear on how to translate between epoch time and datetime.  To further complicate matters, there are some projects that may require multiple transformations back and forth between the two formats."
   ]
  },
  {
   "cell_type": "markdown",
   "metadata": {},
   "source": [
    "# Working with single timestamps\n",
    "\n",
    "The following will work with converting back and forth between epoch time and datetime for single timestamps."
   ]
  },
  {
   "cell_type": "markdown",
   "metadata": {},
   "source": [
    "## Initiating a timezone-aware `datetime`\n",
    "\n",
    "Despite the above reasons, my human brain still understands datetimes better and, thus, when initiating a timestamp or datetime object (say, for the sake of toy demonstrations for a blog post), I typically start with a datetime representation. However, if I use a datetime object, it is important to make sure that it is \"timezone-aware.\" One of the more ...ahem, enjoyable... aspects of working with datetimes in python is that there are multiple packages to choose from and they all have their own strengths, limitations, and strange nuisances to watch out for. For example, I use `datetime` as the main workhorse of my analysis but I use `pytz` to handle the timezone information of those `datetime` objects.  By way of example, let's initiate an unaware datetime object for `9/13/2019` at `8:10:25am`."
   ]
  },
  {
   "cell_type": "code",
   "execution_count": 2,
   "metadata": {},
   "outputs": [
    {
     "name": "stdout",
     "output_type": "stream",
     "text": [
      "unaware_dt:    2019-09-13 08:10:25\n"
     ]
    }
   ],
   "source": [
    "import datetime\n",
    "\n",
    "unaware_dt = datetime.datetime(2019,9,13,8,10,25)\n",
    "print('unaware_dt:   ', unaware_dt)"
   ]
  },
  {
   "cell_type": "markdown",
   "metadata": {},
   "source": [
    "Now, we can try and use the same function call to make a tz-aware datetime object by simply feeding a timezone into the `tzinfo` argument. But... why does the timezone correction piece read: `-04:56` instead of `-04:00`?! To be honest, I remember reading into it at some point and finding the answer too convoluted to care about. Thus, I've decided that the fast-build answer to this is simply: don't initiate tz-aware datetimes like this."
   ]
  },
  {
   "cell_type": "code",
   "execution_count": 3,
   "metadata": {},
   "outputs": [
    {
     "name": "stdout",
     "output_type": "stream",
     "text": [
      "unaware_dt:    2019-09-13 08:10:25\n",
      "bad_aware_dt:  2019-09-13 08:10:25-04:56\n"
     ]
    }
   ],
   "source": [
    "import pytz\n",
    "\n",
    "nyc_tz = pytz.timezone('US/Eastern')\n",
    "bad_aware_dt = datetime.datetime(2019,9,13,8,10,25, tzinfo=nyc_tz)\n",
    "\n",
    "print('unaware_dt:   ', unaware_dt)\n",
    "print('bad_aware_dt: ', bad_aware_dt)"
   ]
  },
  {
   "cell_type": "markdown",
   "metadata": {},
   "source": [
    "So how do we initiate a tz-aware datetime object?  Well, one way to do this is to use `pytz`'s `localize` method.  Here you call `localize` on a `pytz` timezone object and pass in an unaware datetime object.  I've found this to be a reliable way to format a tz-aware datetime from scratch."
   ]
  },
  {
   "cell_type": "code",
   "execution_count": 4,
   "metadata": {},
   "outputs": [
    {
     "name": "stdout",
     "output_type": "stream",
     "text": [
      "unaware_dt:    2019-09-13 08:10:25\n",
      "bad_aware_dt:  2019-09-13 08:10:25-04:56\n",
      "good_aware_dt: 2019-09-13 08:10:25-04:00\n"
     ]
    }
   ],
   "source": [
    "def mk_aware(dt, tz = pytz.timezone('US/Eastern')): \n",
    "    return tz.localize(dt)\n",
    "\n",
    "good_aware_dt = mk_aware(unaware_dt)\n",
    "\n",
    "print('unaware_dt:   ', unaware_dt)\n",
    "print('bad_aware_dt: ', bad_aware_dt)\n",
    "print('good_aware_dt:', good_aware_dt)"
   ]
  },
  {
   "cell_type": "markdown",
   "metadata": {},
   "source": [
    "And of course, if you have to choose a timezone and you didn't have a preference, I recommend using UTC. Which is done using the above function in the following way:"
   ]
  },
  {
   "cell_type": "code",
   "execution_count": 5,
   "metadata": {},
   "outputs": [
    {
     "name": "stdout",
     "output_type": "stream",
     "text": [
      "unaware_dt:    2019-09-13 08:10:25\n",
      "utc_aware_dt:  2019-09-13 08:10:25+00:00\n"
     ]
    }
   ],
   "source": [
    "utc_aware_dt = mk_aware(unaware_dt, tz = pytz.utc)\n",
    "\n",
    "print('unaware_dt:   ', unaware_dt)\n",
    "print('utc_aware_dt: ', utc_aware_dt)"
   ]
  },
  {
   "cell_type": "markdown",
   "metadata": {},
   "source": [
    "## Converting a datetime object to epoch time\n",
    "\n",
    "In order to convert a `datetime` object to epoch time. the `timestamp` method can be used along with the built in `int()` python function. However, this will always give the results in terms of seconds so if you're interested in milliseconds, simply multiply by 1000.  The only \"gotcha\" to mention here is that you need to provide a tz-aware `datetime` in order to ensure that the proper time is referenced."
   ]
  },
  {
   "cell_type": "code",
   "execution_count": 12,
   "metadata": {},
   "outputs": [
    {
     "name": "stdout",
     "output_type": "stream",
     "text": [
      "2019-09-13 08:10:25-04:00\n",
      "1568376625\n",
      "1568376625000\n"
     ]
    }
   ],
   "source": [
    "def dt_to_s(dt): return int(dt.timestamp())\n",
    "def dt_to_ms(dt): return int(dt.timestamp() * 1000)\n",
    "\n",
    "dt_example = mk_aware(datetime.datetime(2019,9,13,8,10,25),tz=nyc_tz)\n",
    "print(dt_example)\n",
    "sec_epoch = dt_to_s(dt_example)\n",
    "print(sec_epoch)\n",
    "msec_epoch = dt_to_ms(dt_example)\n",
    "print(msec_epoch)"
   ]
  },
  {
   "cell_type": "markdown",
   "metadata": {},
   "source": [
    "## Converting Epoch time back to Datetime\n",
    "Again, the name of the game is making the datetime object tz-aware. Note that this is a naive timestamp but it has assumed the timezone to be the local one... so this is kind of dangerous since it gives the local time the timestamp refers to but doesn't tell you that it's doing that."
   ]
  },
  {
   "cell_type": "code",
   "execution_count": 13,
   "metadata": {},
   "outputs": [
    {
     "name": "stdout",
     "output_type": "stream",
     "text": [
      "2019-09-13 08:10:25\n",
      "2019-09-13 08:10:25-04:00\n"
     ]
    }
   ],
   "source": [
    "back2dt = datetime.fromtimestamp(sec_epoch)\n",
    "print(back2dt)\n",
    "back2dt = mk_aware(back2dt,tz = nyc_tz)\n",
    "print(back2dt)"
   ]
  },
  {
   "cell_type": "markdown",
   "metadata": {},
   "source": [
    "## Converting tz information\n",
    "\n",
    "I suggest not doing this while working with `datetime` objects.  The following shows that using the `replace` method for `datetime` objects has unpredictable behavior. The conversion from nyc to utc worked well but converting back did not. Again, I always work in epoch time in order to avoid this. (Note: apparently other packages like pendulum and django do not have this problem so feel free to explore those.)"
   ]
  },
  {
   "cell_type": "code",
   "execution_count": 21,
   "metadata": {},
   "outputs": [
    {
     "name": "stdout",
     "output_type": "stream",
     "text": [
      "2019-09-13 08:10:25+00:00\n",
      "2019-09-13 08:10:25-04:56\n"
     ]
    }
   ],
   "source": [
    "now_utc_dt = good_aware_dt.replace(tzinfo=pytz.utc)\n",
    "print(now_utc_dt)\n",
    "now_nyc_dt = now_utc_dt.replace(tzinfo=nyc_tz)\n",
    "print(now_nyc_dt)"
   ]
  },
  {
   "cell_type": "markdown",
   "metadata": {},
   "source": [
    "## Converting from a string\n",
    "\n",
    "There are several ways to do this. But the one that I like to use is `dateutil.parser` which seems to do everything for me behind the scenes.  Yes, it's another datetime package in python (woohoo)."
   ]
  },
  {
   "cell_type": "code",
   "execution_count": 20,
   "metadata": {},
   "outputs": [
    {
     "data": {
      "text/plain": [
       "datetime.datetime(2020, 4, 26, 8, 10)"
      ]
     },
     "execution_count": 20,
     "metadata": {},
     "output_type": "execute_result"
    }
   ],
   "source": [
    "from dateutil import parser\n",
    "string = '04/26/2020 8:10am'\n",
    "dt = parser.parse(string)\n",
    "dt"
   ]
  },
  {
   "cell_type": "markdown",
   "metadata": {},
   "source": [
    "# Working with datetime in pandas\n",
    "Typically, when working with time series data, it will come ina in tabular form.  Let's start by creating a dataframe of 10 minutes of epoch times and some fake data."
   ]
  },
  {
   "cell_type": "code",
   "execution_count": 59,
   "metadata": {
    "scrolled": true
   },
   "outputs": [
    {
     "name": "stdout",
     "output_type": "stream",
     "text": [
      "From start: 1568376625 to end: 1568377225\n"
     ]
    },
    {
     "data": {
      "text/html": [
       "<div>\n",
       "<style scoped>\n",
       "    .dataframe tbody tr th:only-of-type {\n",
       "        vertical-align: middle;\n",
       "    }\n",
       "\n",
       "    .dataframe tbody tr th {\n",
       "        vertical-align: top;\n",
       "    }\n",
       "\n",
       "    .dataframe thead th {\n",
       "        text-align: right;\n",
       "    }\n",
       "</style>\n",
       "<table border=\"1\" class=\"dataframe\">\n",
       "  <thead>\n",
       "    <tr style=\"text-align: right;\">\n",
       "      <th></th>\n",
       "      <th>time_sec</th>\n",
       "      <th>col1</th>\n",
       "      <th>col2</th>\n",
       "    </tr>\n",
       "  </thead>\n",
       "  <tbody>\n",
       "    <tr>\n",
       "      <th>0</th>\n",
       "      <td>1568376625</td>\n",
       "      <td>-1.347006</td>\n",
       "      <td>-1.672383</td>\n",
       "    </tr>\n",
       "    <tr>\n",
       "      <th>1</th>\n",
       "      <td>1568376626</td>\n",
       "      <td>-0.259848</td>\n",
       "      <td>1.248307</td>\n",
       "    </tr>\n",
       "    <tr>\n",
       "      <th>2</th>\n",
       "      <td>1568376627</td>\n",
       "      <td>-0.964758</td>\n",
       "      <td>-0.412814</td>\n",
       "    </tr>\n",
       "    <tr>\n",
       "      <th>3</th>\n",
       "      <td>1568376628</td>\n",
       "      <td>0.066694</td>\n",
       "      <td>-0.014838</td>\n",
       "    </tr>\n",
       "    <tr>\n",
       "      <th>4</th>\n",
       "      <td>1568376629</td>\n",
       "      <td>0.019538</td>\n",
       "      <td>-0.154513</td>\n",
       "    </tr>\n",
       "  </tbody>\n",
       "</table>\n",
       "</div>"
      ],
      "text/plain": [
       "     time_sec      col1      col2\n",
       "0  1568376625 -1.347006 -1.672383\n",
       "1  1568376626 -0.259848  1.248307\n",
       "2  1568376627 -0.964758 -0.412814\n",
       "3  1568376628  0.066694 -0.014838\n",
       "4  1568376629  0.019538 -0.154513"
      ]
     },
     "execution_count": 59,
     "metadata": {},
     "output_type": "execute_result"
    }
   ],
   "source": [
    "import pandas as pd, numpy as np\n",
    "\n",
    "# make utc aware datetimes for start and end (10 minutes later)\n",
    "dt_start_time = mk_aware(datetime.datetime(2019,9,13,8,10,25))\n",
    "dt_end_time = dt_start_time + datetime.timedelta(minutes=10)\n",
    "\n",
    "# convert to epoch time\n",
    "start_time = dt_to_s(dt_start_time)\n",
    "end_time = dt_to_s(dt_end_time)\n",
    "print(f'From start: {start_time} to end: {end_time}')\n",
    "\n",
    "# create fake data and time array\n",
    "time_sec = list(range(start_time,end_time))\n",
    "fake_data = np.random.normal(size = (len(time_sec),2))\n",
    "\n",
    "# store in dataframe\n",
    "df = pd.DataFrame(fake_data, index = time_sec,columns=['col1','col2'])\n",
    "\n",
    "# reformat dataframe so it's presentable\n",
    "df.index.name = 'time_sec'\n",
    "df = df.reset_index()\n",
    "df.head()"
   ]
  },
  {
   "cell_type": "markdown",
   "metadata": {},
   "source": [
    "## Converting Epoch time to datetime\n",
    "\n",
    "Pandas has a built in function `pd.to_datetime()` which accepts a numeric column and outputs a datetime column.  Note that we've specified utc as our desired timezone in order to avoid future confusion."
   ]
  },
  {
   "cell_type": "code",
   "execution_count": 61,
   "metadata": {},
   "outputs": [
    {
     "data": {
      "text/html": [
       "<div>\n",
       "<style scoped>\n",
       "    .dataframe tbody tr th:only-of-type {\n",
       "        vertical-align: middle;\n",
       "    }\n",
       "\n",
       "    .dataframe tbody tr th {\n",
       "        vertical-align: top;\n",
       "    }\n",
       "\n",
       "    .dataframe thead th {\n",
       "        text-align: right;\n",
       "    }\n",
       "</style>\n",
       "<table border=\"1\" class=\"dataframe\">\n",
       "  <thead>\n",
       "    <tr style=\"text-align: right;\">\n",
       "      <th></th>\n",
       "      <th>time_sec</th>\n",
       "      <th>col1</th>\n",
       "      <th>col2</th>\n",
       "      <th>utc</th>\n",
       "    </tr>\n",
       "  </thead>\n",
       "  <tbody>\n",
       "    <tr>\n",
       "      <th>0</th>\n",
       "      <td>1568376625</td>\n",
       "      <td>-1.347006</td>\n",
       "      <td>-1.672383</td>\n",
       "      <td>2019-09-13 12:10:25+00:00</td>\n",
       "    </tr>\n",
       "    <tr>\n",
       "      <th>1</th>\n",
       "      <td>1568376626</td>\n",
       "      <td>-0.259848</td>\n",
       "      <td>1.248307</td>\n",
       "      <td>2019-09-13 12:10:26+00:00</td>\n",
       "    </tr>\n",
       "    <tr>\n",
       "      <th>2</th>\n",
       "      <td>1568376627</td>\n",
       "      <td>-0.964758</td>\n",
       "      <td>-0.412814</td>\n",
       "      <td>2019-09-13 12:10:27+00:00</td>\n",
       "    </tr>\n",
       "    <tr>\n",
       "      <th>3</th>\n",
       "      <td>1568376628</td>\n",
       "      <td>0.066694</td>\n",
       "      <td>-0.014838</td>\n",
       "      <td>2019-09-13 12:10:28+00:00</td>\n",
       "    </tr>\n",
       "    <tr>\n",
       "      <th>4</th>\n",
       "      <td>1568376629</td>\n",
       "      <td>0.019538</td>\n",
       "      <td>-0.154513</td>\n",
       "      <td>2019-09-13 12:10:29+00:00</td>\n",
       "    </tr>\n",
       "  </tbody>\n",
       "</table>\n",
       "</div>"
      ],
      "text/plain": [
       "     time_sec      col1      col2                       utc\n",
       "0  1568376625 -1.347006 -1.672383 2019-09-13 12:10:25+00:00\n",
       "1  1568376626 -0.259848  1.248307 2019-09-13 12:10:26+00:00\n",
       "2  1568376627 -0.964758 -0.412814 2019-09-13 12:10:27+00:00\n",
       "3  1568376628  0.066694 -0.014838 2019-09-13 12:10:28+00:00\n",
       "4  1568376629  0.019538 -0.154513 2019-09-13 12:10:29+00:00"
      ]
     },
     "execution_count": 61,
     "metadata": {},
     "output_type": "execute_result"
    }
   ],
   "source": [
    "df['utc'] = pd.to_datetime(df.time_sec, unit='s',utc=True)\n",
    "df.head()"
   ]
  },
  {
   "cell_type": "markdown",
   "metadata": {},
   "source": [
    "### Converting between timezones\n",
    "Note that pandas does not suffer from the same issue that datetime does. It is able to repeatably switch between timezones.  Note that in order to operate on the datetime column, we need to access it by using the `dt` accessor."
   ]
  },
  {
   "cell_type": "code",
   "execution_count": 66,
   "metadata": {},
   "outputs": [
    {
     "data": {
      "text/html": [
       "<div>\n",
       "<style scoped>\n",
       "    .dataframe tbody tr th:only-of-type {\n",
       "        vertical-align: middle;\n",
       "    }\n",
       "\n",
       "    .dataframe tbody tr th {\n",
       "        vertical-align: top;\n",
       "    }\n",
       "\n",
       "    .dataframe thead th {\n",
       "        text-align: right;\n",
       "    }\n",
       "</style>\n",
       "<table border=\"1\" class=\"dataframe\">\n",
       "  <thead>\n",
       "    <tr style=\"text-align: right;\">\n",
       "      <th></th>\n",
       "      <th>time_sec</th>\n",
       "      <th>col1</th>\n",
       "      <th>col2</th>\n",
       "      <th>utc</th>\n",
       "      <th>nyc</th>\n",
       "    </tr>\n",
       "  </thead>\n",
       "  <tbody>\n",
       "    <tr>\n",
       "      <th>0</th>\n",
       "      <td>1568376625</td>\n",
       "      <td>-1.347006</td>\n",
       "      <td>-1.672383</td>\n",
       "      <td>2019-09-13 12:10:25+00:00</td>\n",
       "      <td>2019-09-13 08:10:25-04:00</td>\n",
       "    </tr>\n",
       "    <tr>\n",
       "      <th>1</th>\n",
       "      <td>1568376626</td>\n",
       "      <td>-0.259848</td>\n",
       "      <td>1.248307</td>\n",
       "      <td>2019-09-13 12:10:26+00:00</td>\n",
       "      <td>2019-09-13 08:10:26-04:00</td>\n",
       "    </tr>\n",
       "    <tr>\n",
       "      <th>2</th>\n",
       "      <td>1568376627</td>\n",
       "      <td>-0.964758</td>\n",
       "      <td>-0.412814</td>\n",
       "      <td>2019-09-13 12:10:27+00:00</td>\n",
       "      <td>2019-09-13 08:10:27-04:00</td>\n",
       "    </tr>\n",
       "    <tr>\n",
       "      <th>3</th>\n",
       "      <td>1568376628</td>\n",
       "      <td>0.066694</td>\n",
       "      <td>-0.014838</td>\n",
       "      <td>2019-09-13 12:10:28+00:00</td>\n",
       "      <td>2019-09-13 08:10:28-04:00</td>\n",
       "    </tr>\n",
       "    <tr>\n",
       "      <th>4</th>\n",
       "      <td>1568376629</td>\n",
       "      <td>0.019538</td>\n",
       "      <td>-0.154513</td>\n",
       "      <td>2019-09-13 12:10:29+00:00</td>\n",
       "      <td>2019-09-13 08:10:29-04:00</td>\n",
       "    </tr>\n",
       "  </tbody>\n",
       "</table>\n",
       "</div>"
      ],
      "text/plain": [
       "     time_sec      col1      col2                       utc  \\\n",
       "0  1568376625 -1.347006 -1.672383 2019-09-13 12:10:25+00:00   \n",
       "1  1568376626 -0.259848  1.248307 2019-09-13 12:10:26+00:00   \n",
       "2  1568376627 -0.964758 -0.412814 2019-09-13 12:10:27+00:00   \n",
       "3  1568376628  0.066694 -0.014838 2019-09-13 12:10:28+00:00   \n",
       "4  1568376629  0.019538 -0.154513 2019-09-13 12:10:29+00:00   \n",
       "\n",
       "                        nyc  \n",
       "0 2019-09-13 08:10:25-04:00  \n",
       "1 2019-09-13 08:10:26-04:00  \n",
       "2 2019-09-13 08:10:27-04:00  \n",
       "3 2019-09-13 08:10:28-04:00  \n",
       "4 2019-09-13 08:10:29-04:00  "
      ]
     },
     "execution_count": 66,
     "metadata": {},
     "output_type": "execute_result"
    }
   ],
   "source": [
    "df['nyc'] = df['utc'].dt.tz_convert(nyc_tz)\n",
    "df.head()"
   ]
  },
  {
   "cell_type": "markdown",
   "metadata": {},
   "source": [
    "## Converting from `datetime` Column to Epoch Time Column\n",
    "\n",
    "So this one is a bit tricky.  The primary function that converts from `datetime` to epoch time is just to tell pandas that you want to change the type of the column to `int`.  However, this returns nanoseconds so we need to then account for that by dividing by 1e-9 (which in turn pandas converts to a `float` and then displays with scientific notation). Thus, if you're ultimate goal is a column with type `int` of seconds, you would need to cast it back to `int` again after this rescaling."
   ]
  },
  {
   "cell_type": "code",
   "execution_count": 68,
   "metadata": {},
   "outputs": [
    {
     "data": {
      "text/html": [
       "<div>\n",
       "<style scoped>\n",
       "    .dataframe tbody tr th:only-of-type {\n",
       "        vertical-align: middle;\n",
       "    }\n",
       "\n",
       "    .dataframe tbody tr th {\n",
       "        vertical-align: top;\n",
       "    }\n",
       "\n",
       "    .dataframe thead th {\n",
       "        text-align: right;\n",
       "    }\n",
       "</style>\n",
       "<table border=\"1\" class=\"dataframe\">\n",
       "  <thead>\n",
       "    <tr style=\"text-align: right;\">\n",
       "      <th></th>\n",
       "      <th>time_sec</th>\n",
       "      <th>col1</th>\n",
       "      <th>col2</th>\n",
       "      <th>utc</th>\n",
       "      <th>nyc</th>\n",
       "      <th>back2sec</th>\n",
       "    </tr>\n",
       "  </thead>\n",
       "  <tbody>\n",
       "    <tr>\n",
       "      <th>0</th>\n",
       "      <td>1568376625</td>\n",
       "      <td>-1.347006</td>\n",
       "      <td>-1.672383</td>\n",
       "      <td>2019-09-13 12:10:25+00:00</td>\n",
       "      <td>2019-09-13 08:10:25-04:00</td>\n",
       "      <td>1.568377e+09</td>\n",
       "    </tr>\n",
       "    <tr>\n",
       "      <th>1</th>\n",
       "      <td>1568376626</td>\n",
       "      <td>-0.259848</td>\n",
       "      <td>1.248307</td>\n",
       "      <td>2019-09-13 12:10:26+00:00</td>\n",
       "      <td>2019-09-13 08:10:26-04:00</td>\n",
       "      <td>1.568377e+09</td>\n",
       "    </tr>\n",
       "    <tr>\n",
       "      <th>2</th>\n",
       "      <td>1568376627</td>\n",
       "      <td>-0.964758</td>\n",
       "      <td>-0.412814</td>\n",
       "      <td>2019-09-13 12:10:27+00:00</td>\n",
       "      <td>2019-09-13 08:10:27-04:00</td>\n",
       "      <td>1.568377e+09</td>\n",
       "    </tr>\n",
       "    <tr>\n",
       "      <th>3</th>\n",
       "      <td>1568376628</td>\n",
       "      <td>0.066694</td>\n",
       "      <td>-0.014838</td>\n",
       "      <td>2019-09-13 12:10:28+00:00</td>\n",
       "      <td>2019-09-13 08:10:28-04:00</td>\n",
       "      <td>1.568377e+09</td>\n",
       "    </tr>\n",
       "    <tr>\n",
       "      <th>4</th>\n",
       "      <td>1568376629</td>\n",
       "      <td>0.019538</td>\n",
       "      <td>-0.154513</td>\n",
       "      <td>2019-09-13 12:10:29+00:00</td>\n",
       "      <td>2019-09-13 08:10:29-04:00</td>\n",
       "      <td>1.568377e+09</td>\n",
       "    </tr>\n",
       "  </tbody>\n",
       "</table>\n",
       "</div>"
      ],
      "text/plain": [
       "     time_sec      col1      col2                       utc  \\\n",
       "0  1568376625 -1.347006 -1.672383 2019-09-13 12:10:25+00:00   \n",
       "1  1568376626 -0.259848  1.248307 2019-09-13 12:10:26+00:00   \n",
       "2  1568376627 -0.964758 -0.412814 2019-09-13 12:10:27+00:00   \n",
       "3  1568376628  0.066694 -0.014838 2019-09-13 12:10:28+00:00   \n",
       "4  1568376629  0.019538 -0.154513 2019-09-13 12:10:29+00:00   \n",
       "\n",
       "                        nyc      back2sec  \n",
       "0 2019-09-13 08:10:25-04:00  1.568377e+09  \n",
       "1 2019-09-13 08:10:26-04:00  1.568377e+09  \n",
       "2 2019-09-13 08:10:27-04:00  1.568377e+09  \n",
       "3 2019-09-13 08:10:28-04:00  1.568377e+09  \n",
       "4 2019-09-13 08:10:29-04:00  1.568377e+09  "
      ]
     },
     "execution_count": 68,
     "metadata": {},
     "output_type": "execute_result"
    }
   ],
   "source": [
    "df['back2sec'] = df.nyc.astype(int)/1e9\n",
    "df.head()"
   ]
  },
  {
   "cell_type": "markdown",
   "metadata": {},
   "source": [
    "I created this function just in case I was interested in converting the whole column to the nearest `int`.  I demonstrate that pandas is able to properly handle different timezones by creating two new columns with the function starting from two different timezone columns (utc and nyc)."
   ]
  },
  {
   "cell_type": "code",
   "execution_count": 69,
   "metadata": {},
   "outputs": [
    {
     "data": {
      "text/html": [
       "<div>\n",
       "<style scoped>\n",
       "    .dataframe tbody tr th:only-of-type {\n",
       "        vertical-align: middle;\n",
       "    }\n",
       "\n",
       "    .dataframe tbody tr th {\n",
       "        vertical-align: top;\n",
       "    }\n",
       "\n",
       "    .dataframe thead th {\n",
       "        text-align: right;\n",
       "    }\n",
       "</style>\n",
       "<table border=\"1\" class=\"dataframe\">\n",
       "  <thead>\n",
       "    <tr style=\"text-align: right;\">\n",
       "      <th></th>\n",
       "      <th>time_sec</th>\n",
       "      <th>col1</th>\n",
       "      <th>col2</th>\n",
       "      <th>utc</th>\n",
       "      <th>nyc</th>\n",
       "      <th>back2sec</th>\n",
       "      <th>back2ms</th>\n",
       "    </tr>\n",
       "  </thead>\n",
       "  <tbody>\n",
       "    <tr>\n",
       "      <th>0</th>\n",
       "      <td>1568376625</td>\n",
       "      <td>-1.347006</td>\n",
       "      <td>-1.672383</td>\n",
       "      <td>2019-09-13 12:10:25+00:00</td>\n",
       "      <td>2019-09-13 08:10:25-04:00</td>\n",
       "      <td>1568376625</td>\n",
       "      <td>1568376625000</td>\n",
       "    </tr>\n",
       "    <tr>\n",
       "      <th>1</th>\n",
       "      <td>1568376626</td>\n",
       "      <td>-0.259848</td>\n",
       "      <td>1.248307</td>\n",
       "      <td>2019-09-13 12:10:26+00:00</td>\n",
       "      <td>2019-09-13 08:10:26-04:00</td>\n",
       "      <td>1568376626</td>\n",
       "      <td>1568376626000</td>\n",
       "    </tr>\n",
       "    <tr>\n",
       "      <th>2</th>\n",
       "      <td>1568376627</td>\n",
       "      <td>-0.964758</td>\n",
       "      <td>-0.412814</td>\n",
       "      <td>2019-09-13 12:10:27+00:00</td>\n",
       "      <td>2019-09-13 08:10:27-04:00</td>\n",
       "      <td>1568376627</td>\n",
       "      <td>1568376627000</td>\n",
       "    </tr>\n",
       "    <tr>\n",
       "      <th>3</th>\n",
       "      <td>1568376628</td>\n",
       "      <td>0.066694</td>\n",
       "      <td>-0.014838</td>\n",
       "      <td>2019-09-13 12:10:28+00:00</td>\n",
       "      <td>2019-09-13 08:10:28-04:00</td>\n",
       "      <td>1568376628</td>\n",
       "      <td>1568376628000</td>\n",
       "    </tr>\n",
       "    <tr>\n",
       "      <th>4</th>\n",
       "      <td>1568376629</td>\n",
       "      <td>0.019538</td>\n",
       "      <td>-0.154513</td>\n",
       "      <td>2019-09-13 12:10:29+00:00</td>\n",
       "      <td>2019-09-13 08:10:29-04:00</td>\n",
       "      <td>1568376629</td>\n",
       "      <td>1568376629000</td>\n",
       "    </tr>\n",
       "  </tbody>\n",
       "</table>\n",
       "</div>"
      ],
      "text/plain": [
       "     time_sec      col1      col2                       utc  \\\n",
       "0  1568376625 -1.347006 -1.672383 2019-09-13 12:10:25+00:00   \n",
       "1  1568376626 -0.259848  1.248307 2019-09-13 12:10:26+00:00   \n",
       "2  1568376627 -0.964758 -0.412814 2019-09-13 12:10:27+00:00   \n",
       "3  1568376628  0.066694 -0.014838 2019-09-13 12:10:28+00:00   \n",
       "4  1568376629  0.019538 -0.154513 2019-09-13 12:10:29+00:00   \n",
       "\n",
       "                        nyc    back2sec        back2ms  \n",
       "0 2019-09-13 08:10:25-04:00  1568376625  1568376625000  \n",
       "1 2019-09-13 08:10:26-04:00  1568376626  1568376626000  \n",
       "2 2019-09-13 08:10:27-04:00  1568376627  1568376627000  \n",
       "3 2019-09-13 08:10:28-04:00  1568376628  1568376628000  \n",
       "4 2019-09-13 08:10:29-04:00  1568376629  1568376629000  "
      ]
     },
     "execution_count": 69,
     "metadata": {},
     "output_type": "execute_result"
    }
   ],
   "source": [
    "def series_to_epoch(series,units ='s',return_int=True):\n",
    "    # choose conversion factor\n",
    "    if units == 's': conversion = 1e9\n",
    "    elif units =='ms': conversion = 1e6\n",
    "    elif units =='us': conversion = 1e3\n",
    "    \n",
    "    if return_int:\n",
    "        return (series.astype(int)/conversion).astype(int)\n",
    "    else: # returns floats (scientific notation)\n",
    "        return series.astype(int)/conversion\n",
    "    \n",
    "df['back2sec'] = series_to_epoch(df.nyc)\n",
    "df['back2ms'] = series_to_epoch(df.utc, units='ms')\n",
    "df.head()"
   ]
  }
 ],
 "metadata": {
  "kernelspec": {
   "display_name": "Python 3",
   "language": "python",
   "name": "python3"
  },
  "language_info": {
   "codemirror_mode": {
    "name": "ipython",
    "version": 3
   },
   "file_extension": ".py",
   "mimetype": "text/x-python",
   "name": "python",
   "nbconvert_exporter": "python",
   "pygments_lexer": "ipython3",
   "version": "3.7.3"
  }
 },
 "nbformat": 4,
 "nbformat_minor": 2
}
