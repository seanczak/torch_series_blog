{
 "cells": [
  {
   "cell_type": "markdown",
   "metadata": {},
   "source": [
    "- Why do we care about anything except accuracy of a model or a test (say a medical one)?\n",
    "- Dealing with priors for medical tests\n",
    "    - covid was hard to know how many people actually had it\n",
    "    - negative Likelihood ratio? odds? instead of prior https://www.ncbi.nlm.nih.gov/pmc/articles/PMC7315940/\n",
    "    - range of priors (as well as range of sensitivities)\n",
    "    - updating prior?\n",
    "- why do we have all these ways of measuring? Why not a single set of metrics, do some lend themselves to different applications\n",
    "    - think bayesian, does specificity and recall make more sense than PR?\n",
    "        - really maybe its about reassembling confusion matrix so you can get all the others\n",
    "- how to reconcile and translate between many different forms of \n",
    "    - so sensitivity/recall/tpr are in the same boat and when combined with specificity/precision/fpr are enough to ressemble confusion matrix? (is there an axes convention to which is the true and which is the test/predicted)\n",
    "    - sensitivity = recall = true positive rate?\n",
    "    - specificity is like recall but if you were concerned with recall on NEGATIVE cases \n",
    "    - precision is a lot like specificity in that the thing you want to minimize is the fp (rate?)\n",
    "    - false positive (1 - specificity) and true positive rates (recall)\n",
    "    - reassemble confusion matrix... is there a convention for how that is created \n",
    "        - (wikipedia: Each row of the matrix represents the instances in a predicted class while each column represents the instances in an actual class)\n",
    "        - note its a specific type of contingency matrix (which seems to be a really important visualization tool in solving stats, marginal probs, conditional probs, correlation matrices, confusion matrices) - dont write this one for a while, it will get better as I get better at stats (just wanted to put it here though)\n",
    "    - this is close to what I'd like to write...but I think I can add more with threshold analysis (see below) and add the medical stuff https://medium.com/@alon.lek/should-i-look-at-precision-recall-or-specificity-sensitivity-3946158aace1\n",
    "- how to look at two (they are subtly dependent on each other)\n",
    "    - this seems like it only makes sense in a modeling case (as you change threshold it changes the other two... so they are actually not dependent on each other but on threshold)... are there any other use cases?\n",
    "    - roc and pr curve, areas under them mean what?  is it qualitative (i.e. intuitive, subjective, conditional) or quantitative (>0.8 always means a good model\n",
    "    - relationship between them? https://www.biostat.wisc.edu/~page/rocpr.pdf\n"
   ]
  },
  {
   "cell_type": "markdown",
   "metadata": {},
   "source": [
    "# Covid\n",
    "- what if you don't know the marginals or there is at least uncertainty in them (like with covid)\n",
    "    - updating priors (apparently has a post that leads into this one)\n",
    "    - http://doingbayesiandataanalysis.blogspot.com/2013/01/bayesian-disease-diagnosis-with.html\n",
    "    \n",
    "    - again, this guy using negative likelihood ratio or something https://www.ncbi.nlm.nih.gov/pmc/articles/PMC7315940/\n",
    "    - and this guy just assumes there is a range (so he I guess uses a conf interval to define the uncertainty) https://www.ncbi.nlm.nih.gov/pmc/articles/PMC7269418/\n",
    "- types of tests\n",
    "    - RT-PCR - https://www.bmj.com/content/bmj/369/bmj.m1808.full.pdf\n",
    "    - rapid antigen test https://www.cdc.gov/coronavirus/2019-ncov/lab/resources/antigen-tests-guidelines.html\n",
    "    - not sure I trust their specificity numbers\n",
    "    - any others? \n",
    "- this lesson in the bayesian course got me thinking\n",
    "    - HIV tests in the 80s https://www.coursera.org/learn/bayesian-statistics/lecture/oANY8/lesson-2-2-bayes-theorem"
   ]
  }
 ],
 "metadata": {
  "kernelspec": {
   "display_name": "Python 3",
   "language": "python",
   "name": "python3"
  },
  "language_info": {
   "codemirror_mode": {
    "name": "ipython",
    "version": 3
   },
   "file_extension": ".py",
   "mimetype": "text/x-python",
   "name": "python",
   "nbconvert_exporter": "python",
   "pygments_lexer": "ipython3",
   "version": "3.7.7"
  },
  "toc": {
   "base_numbering": 1,
   "nav_menu": {},
   "number_sections": true,
   "sideBar": true,
   "skip_h1_title": false,
   "title_cell": "Table of Contents",
   "title_sidebar": "Contents",
   "toc_cell": false,
   "toc_position": {},
   "toc_section_display": true,
   "toc_window_display": false
  }
 },
 "nbformat": 4,
 "nbformat_minor": 2
}
