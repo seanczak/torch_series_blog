{
 "cells": [
  {
   "cell_type": "markdown",
   "metadata": {},
   "source": [
    "# What Took So Long in the Swing States?\n",
    "> Be nice to statisticians, they're doing their best\n",
    "\n",
    "You might've noticed a peculiar trend last week as the election results came in. In fact, if you were like me, you not only noticed it... you were obsessively hitting refresh on your browser and not trusting the \"updated at {time}\" message above results page.\n",
    "\n",
    "What I'm speaking of is that on Tuesday night, it seemed like an all-but-certainty that Donald Trump was going to be our President for 4 more years. He was winning in essentially all the battle ground states and was otherwise tied in the states that had already been called.  But for some reason, the news stations were not proclaiming victory for either side. Well, why not?\n",
    "\n",
    "We see that many states only required a few votes to be able to make a solid guess. In fact, if conditions are ideal, we could know after counting less than 100,000 votes!  Ok well the world isn't perfect... So in another post I point out that many states, namely Virginia, broke this idealized model.  However, even then the statisticians were able to correctly guess the winner even when he was trailing by 20%.\n",
    "\n",
    "So why couldn't we do something similar in the case of Michigan or Pennsylvania? Why did we have to wait for 4 days?!"
   ]
  },
  {
   "cell_type": "markdown",
   "metadata": {},
   "source": [
    "## Bring out the Marbles\n",
    "\n",
    "If you've read any of the other posts I've written about this election (links), you'll be quite familiar with my obsession with marble bags to explain stats.  If not, let's quickly revisit them.  \n",
    "\n",
    "We started by positing that, instead of going to various polling offices, mail boxes, etc, the people cast their votes by bringing a colored marble to their state's capital on election day.  This made for a nice first approximation of how many votes would be required to \"call\" a state.  \n",
    "But then we realized that the media was reporting votes as they came in and some counties counted faster than others. This gave a very biased sample of votes which, in Virginia, gave the early impression that Trump was going to have a landslide victory (when in fact Biden won that state).  \n",
    "\n",
    "Well, we learned we could save our beloved marble bag model by dividing the big bag of marbles (the state's total votes) into smaller bags representing each county.  This worked as a second approximation to help explain why states could be called so early.  But what we're seeing in this election is that not only does the county matter but also how you chose to vote (among other factors).  "
   ]
  },
  {
   "cell_type": "markdown",
   "metadata": {},
   "source": [
    "## Russian Dolls of the Marble World\n",
    "\n",
    "In a world where one candidate might tell his supporters to avoid voting by mail, you could expect to see a huge difference in the compositions of the \"voted by mail\" bag and the \"voted on election day\" bag.  What's more is that different ethnic groups may play a key role in some counties to swing a state based on how many vote that year.  You could keep going with this: gender, age groups, first-time voters, etc. Selecting a larger proportion of any of these voters could unnaturally bias your sample and give you an unrealistic expectation of $p$ (and thus the entire election). These are what we call \"confounding variables\" which I find to be a hilariously appropriate name for the things that confuse and keep statisticians up at night.  The role they play is to upset our assumption that the marble bag was \"well-mixed\" before we started sampling.  Without accounting for them, one really doesn't have a clue what is going on.\n",
    "\n",
    "So what does this mean? Well, first off, it means that there definitely is not a bunch of people waiting for a certain number of votes to come in before they can call the state (at the time of this writing Georgia still hadn't been called despite being at 99%). Instead, it means that there is a team of people who try to figure out what important trends to look out for in each state, each county, each demographic.  For example, one exhaustive way to account for confounding variables is to go back to the bags within bags approach we used for the counties.  Think about it like a set of Russian dolls. Within a state, you choose to separate different counties because you imagine people vote differently based on where they live. Then within the counties you assume that the way someone votes makes a difference in who they vote for.  And then you can keep going with ethnicities within each of those sub-groups and on and on.  Once you have a sense for how each of these tiny, tiny bags react, you can then make an prediction on the whole state's final tally.\n",
    "\n",
    "<img src=\"election/election_images/confounding.png\" width=1000 height=600 />\n",
    "\n",
    "Allow me to reiterate that I'm not privy to their process. I'm just a guy that works with statistics a bunch. The work we did above for Illinois and Virginia assumed that we had representative samples and that we knew the total number of voters (in each county and the state).  In that way, we were able to approximate the worst and best case scenarios for each candidate and make a guess based on those cases.  Unfortunately, none of those assumptions are valid but typically the difference in results between candidates is wide enough that such uncertainty is absorbed (i.e. one candidate wins by ~5% in that state).\n",
    "\n",
    "Swing states are a different story...\n",
    "\n",
    "### All Models are wrong, some are useful\n",
    "\n",
    "A swing state designates a nearly split population which results in such tight races that can sometimes be decided by less than a percent. I imagine its harder to estimate who will show up to vote which adds more uncertainty. Moreover, in the case of this election, we sometimes encounter situations which there is no precedent and, thus, extremely hard to predict.  The massive numbers of mail-in ballots this year is something we've never experienced and we're seeing that it's really hard to predict exactly how many will come in. This was made clear when Pennsylvania counted 100k more votes and decreased their reporting percentage from 89% to 88% (it went backwards!). What's more is that some states allow for ballots to count even if they come in weeks late as long as they have been post-marked by a certain date.  With this situation, it's hard to know how big the bag of \"mail in ballots\" is even if you can already infer that ~70% of them are going to be in favor a single candidate.\n",
    "\n",
    "With all of this uncertainty wrapped up in the fundamental make up of the model, it makes it difficult to confidently declare a state.  The inherent flaws of the model that worked so well in Virginia is shown for what it really is in Georgia.  The statistician... has no clothes.  Compound that with the external pressure to make the right call (as exemplified by the inquisition put to this Fox News analyst https://www.youtube.com/watch?v=OJDKS3d2RHk&feature=emb_logo) and you get the situation that we're currently experiencing.  "
   ]
  }
 ],
 "metadata": {
  "kernelspec": {
   "display_name": "Python 3",
   "language": "python",
   "name": "python3"
  },
  "language_info": {
   "codemirror_mode": {
    "name": "ipython",
    "version": 3
   },
   "file_extension": ".py",
   "mimetype": "text/x-python",
   "name": "python",
   "nbconvert_exporter": "python",
   "pygments_lexer": "ipython3",
   "version": "3.7.7"
  },
  "toc": {
   "base_numbering": 1,
   "nav_menu": {},
   "number_sections": true,
   "sideBar": true,
   "skip_h1_title": false,
   "title_cell": "Table of Contents",
   "title_sidebar": "Contents",
   "toc_cell": false,
   "toc_position": {},
   "toc_section_display": true,
   "toc_window_display": false
  }
 },
 "nbformat": 4,
 "nbformat_minor": 2
}
